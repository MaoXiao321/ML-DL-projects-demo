{
 "cells": [
  {
   "cell_type": "code",
   "execution_count": 1,
   "id": "b218cfc3",
   "metadata": {},
   "outputs": [],
   "source": [
    "import pandas as pd\n",
    "from sklearn.preprocessing import MinMaxScaler\n",
    "from sklearn.model_selection import train_test_split\n",
    "import numpy as np\n",
    "import tensorflow as tf\n",
    "from tensorflow.keras import layers,Model,Sequential\n",
    "from tensorflow.keras.callbacks import ModelCheckpoint\n",
    "import matplotlib.pyplot as plt\n",
    "from sklearn.metrics import r2_score"
   ]
  },
  {
   "cell_type": "code",
   "execution_count": 2,
   "metadata": {},
   "outputs": [],
   "source": [
    "# 加载数据集\n",
    "\n",
    "dataset = pd.read_csv(\"BikeShares.csv\", parse_dates=['timestamp'], index_col=['timestamp'])"
   ]
  },
  {
   "cell_type": "code",
   "execution_count": 4,
   "id": "a054c6cc",
   "metadata": {},
   "outputs": [
    {
     "data": {
      "text/plain": [
       "(17414, 9)"
      ]
     },
     "execution_count": 4,
     "metadata": {},
     "output_type": "execute_result"
    }
   ],
   "source": [
    "dataset.shape"
   ]
  },
  {
   "cell_type": "code",
   "execution_count": 4,
   "id": "94df6749",
   "metadata": {},
   "outputs": [],
   "source": [
    "# 分别对字段t1, t2, hum, wind_speed进行归一化\n",
    "\n",
    "columns = ['cnt', 't1', 't2', 'hum', 'wind_speed']\n",
    "\n",
    "for col in columns:\n",
    "    scaler = MinMaxScaler()\n",
    "    dataset[col] = scaler.fit_transform(dataset[col].values.reshape(-1,1))"
   ]
  },
  {
   "cell_type": "code",
   "execution_count": 5,
   "id": "7f734404",
   "metadata": {},
   "outputs": [],
   "source": [
    "# 特征数据集\n",
    "\n",
    "X = dataset.drop(columns=['cnt'], axis=1) \n",
    "\n",
    "# 标签数据集\n",
    "\n",
    "y = dataset['cnt']"
   ]
  },
  {
   "cell_type": "code",
   "execution_count": 7,
   "id": "d1199c1c",
   "metadata": {},
   "outputs": [],
   "source": [
    "# 1 数据集分离： X_train, X_test\n",
    "\n",
    "X_train, X_test, y_train, y_test = train_test_split(X, y, test_size=0.2, \n",
    "                                                    shuffle=False, # 时间序列的数据要关闭shuffle\n",
    "                                                    random_state=666)"
   ]
  },
  {
   "cell_type": "code",
   "execution_count": 12,
   "id": "401d68c8",
   "metadata": {},
   "outputs": [],
   "source": [
    "# 2 构造特征数据集\n",
    "\n",
    "def create_dataset(X, y, seq_len=10):\n",
    "    features = []\n",
    "    targets = []\n",
    "    \n",
    "    for i in range(0, len(X) - seq_len, 1):\n",
    "        data = X.iloc[i:i+seq_len] # 序列数据\n",
    "        label = y.iloc[i+seq_len] # 标签数据\n",
    "        # 保存到features和labels\n",
    "        features.append(data)\n",
    "        targets.append(label)\n",
    "    return np.array(features), np.array(targets)\n",
    "\n",
    "seq_len = 10\n",
    "# ① 构造训练特征数据集\n",
    "train_dataset, train_labels = create_dataset(X_train, y_train, seq_len=seq_len)\n",
    "# ② 构造测试特征数据集\n",
    "test_dataset, test_labels = create_dataset(X_test, y_test, seq_len=seq_len)"
   ]
  },
  {
   "cell_type": "code",
   "execution_count": 23,
   "id": "de90e04c",
   "metadata": {},
   "outputs": [],
   "source": [
    "seq_len = 10"
   ]
  },
  {
   "cell_type": "code",
   "execution_count": 15,
   "id": "073d9d7c",
   "metadata": {},
   "outputs": [],
   "source": [
    "# 3 构造批数据\n",
    "\n",
    "def create_batch_dataset(X, y, train=True, buffer_size=1000, batch_size=128):\n",
    "    batch_data = tf.data.Dataset.from_tensor_slices((tf.constant(X), tf.constant(y))) # 数据封装，tensor类型\n",
    "    if train: # 训练集\n",
    "        return batch_data.cache().shuffle(buffer_size).batch(batch_size)\n",
    "    else: # 测试集\n",
    "        return batch_data.batch(batch_size)\n",
    "\n",
    "# 训练批数据\n",
    "\n",
    "train_batch_dataset = create_batch_dataset(train_dataset, train_labels)\n",
    "\n",
    "# 测试批数据\n",
    "\n",
    "test_batch_dataset = create_batch_dataset(test_dataset, test_labels, train=False)"
   ]
  },
  {
   "cell_type": "code",
   "execution_count": 20,
   "id": "554ee162",
   "metadata": {},
   "outputs": [
    {
     "data": {
      "text/plain": [
       "(128, 10, 8)"
      ]
     },
     "execution_count": 20,
     "metadata": {},
     "output_type": "execute_result"
    }
   ],
   "source": [
    "# 从测试批数据中，获取一个batch_size的样本数据\n",
    "\n",
    "list(test_batch_dataset.as_numpy_iterator())[0][0].shape"
   ]
  },
  {
   "cell_type": "code",
   "execution_count": 38,
   "id": "1f3fc602",
   "metadata": {},
   "outputs": [],
   "source": [
    "embedding_dimention = X_train.shape[1]"
   ]
  },
  {
   "cell_type": "code",
   "execution_count": 98,
   "id": "ff6b29ef",
   "metadata": {},
   "outputs": [
    {
     "name": "stdout",
     "output_type": "stream",
     "text": [
      "Model: \"sequential_30\"\n",
      "_________________________________________________________________\n",
      "Layer (type)                 Output Shape              Param #   \n",
      "=================================================================\n",
      "lstm_30 (LSTM)               (None, 10, 64)            18688     \n",
      "_________________________________________________________________\n",
      "dropout_37 (Dropout)         (None, 10, 64)            0         \n",
      "_________________________________________________________________\n",
      "bidirectional_18 (Bidirectio (None, 10, 64)            24832     \n",
      "_________________________________________________________________\n",
      "dropout_38 (Dropout)         (None, 10, 64)            0         \n",
      "_________________________________________________________________\n",
      "functional_35 (Functional)   (None, 1, 1, 192)         49344     \n",
      "_________________________________________________________________\n",
      "flatten_22 (Flatten)         (None, 192)               0         \n",
      "_________________________________________________________________\n",
      "dense_61 (Dense)             (None, 10)                1930      \n",
      "_________________________________________________________________\n",
      "dropout_39 (Dropout)         (None, 10)                0         \n",
      "_________________________________________________________________\n",
      "dense_62 (Dense)             (None, 1)                 11        \n",
      "=================================================================\n",
      "Total params: 94,805\n",
      "Trainable params: 94,805\n",
      "Non-trainable params: 0\n",
      "_________________________________________________________________\n"
     ]
    }
   ],
   "source": [
    "def convolution():\n",
    "    filter_size = [3,4,5]\n",
    "    embedding_dimention = 64\n",
    "    inn = layers.Input(shape=(seq_len,embedding_dimention,1)) # 3维\n",
    "    cnns = []\n",
    "    for filter in filter_size:\n",
    "        conv = layers.Conv2D(filters=64,kernel_size=(filter,embedding_dimention), # 卷积大小是filter × embedding_dimention\n",
    "                            strides=1,activation='relu')(inn)\n",
    "                            \n",
    "        # conv生成64个((seq_len-filter+2*0)/1+1,1)特征图，将每个特征图pooling成一个特征，得到64个特征\n",
    "        pool = layers.MaxPool2D(pool_size=((seq_len-filter+2*0)/1+1,1))(conv)\n",
    "        cnns.append(pool)\n",
    "    # 将不同卷积大小下的结果拼接在一起\n",
    "    outt = layers.concatenate(cnns)\n",
    "    model = Model(inputs = inn, outputs = outt)\n",
    "    return model\n",
    "\n",
    "def cnn_mulfilter():\n",
    "    model = Sequential([\n",
    "        layers.LSTM(64, input_shape=train_dataset.shape[-2:],return_sequences=True),\n",
    "        layers.Dropout(0.2),\n",
    "        layers.Bidirectional(layers.LSTM(32,return_sequences=True)),\n",
    "        layers.Dropout(0.2),\n",
    "        convolution(),\n",
    "        layers.Flatten(),\n",
    "        layers.Dense(10,activation='relu'),\n",
    "        layers.Dropout(0.2),\n",
    "        layers.Dense(1)\n",
    "    ])\n",
    "\n",
    "    model.compile(optimizer='adam',loss='mse')\n",
    "    return model\n",
    "model = cnn_mulfilter()\n",
    "model.summary()"
   ]
  },
  {
   "cell_type": "code",
   "execution_count": 99,
   "id": "96817747",
   "metadata": {},
   "outputs": [
    {
     "name": "stdout",
     "output_type": "stream",
     "text": [
      "Epoch 1/50\n",
      "109/109 [==============================] - 2s 22ms/step - loss: 0.0193 - val_loss: 0.0188\n",
      "Epoch 2/50\n",
      "109/109 [==============================] - 1s 12ms/step - loss: 0.0156 - val_loss: 0.0151\n",
      "Epoch 3/50\n",
      "109/109 [==============================] - 1s 12ms/step - loss: 0.0134 - val_loss: 0.0135\n",
      "Epoch 4/50\n",
      "109/109 [==============================] - 1s 13ms/step - loss: 0.0127 - val_loss: 0.0139\n",
      "Epoch 5/50\n",
      "109/109 [==============================] - 1s 13ms/step - loss: 0.0123 - val_loss: 0.0130\n",
      "Epoch 6/50\n",
      "109/109 [==============================] - 1s 12ms/step - loss: 0.0122 - val_loss: 0.0131\n",
      "Epoch 7/50\n",
      "109/109 [==============================] - 1s 13ms/step - loss: 0.0119 - val_loss: 0.0126\n",
      "Epoch 8/50\n",
      "109/109 [==============================] - 1s 13ms/step - loss: 0.0117 - val_loss: 0.0134\n",
      "Epoch 9/50\n",
      "109/109 [==============================] - 1s 13ms/step - loss: 0.0114 - val_loss: 0.0120\n",
      "Epoch 10/50\n",
      "109/109 [==============================] - 1s 12ms/step - loss: 0.0111 - val_loss: 0.0129\n",
      "Epoch 11/50\n",
      "109/109 [==============================] - 1s 13ms/step - loss: 0.0108 - val_loss: 0.0128\n",
      "Epoch 12/50\n",
      "109/109 [==============================] - 1s 13ms/step - loss: 0.0108 - val_loss: 0.0120\n",
      "Epoch 13/50\n",
      "109/109 [==============================] - 1s 13ms/step - loss: 0.0107 - val_loss: 0.0120\n",
      "Epoch 14/50\n",
      "109/109 [==============================] - 1s 13ms/step - loss: 0.0105 - val_loss: 0.0120\n",
      "Epoch 15/50\n",
      "109/109 [==============================] - 1s 13ms/step - loss: 0.0104 - val_loss: 0.0116\n",
      "Epoch 16/50\n",
      "109/109 [==============================] - 1s 13ms/step - loss: 0.0104 - val_loss: 0.0118\n",
      "Epoch 17/50\n",
      "109/109 [==============================] - 1s 13ms/step - loss: 0.0102 - val_loss: 0.0109\n",
      "Epoch 18/50\n",
      "109/109 [==============================] - 1s 13ms/step - loss: 0.0100 - val_loss: 0.0117\n",
      "Epoch 19/50\n",
      "109/109 [==============================] - 1s 13ms/step - loss: 0.0101 - val_loss: 0.0104\n",
      "Epoch 20/50\n",
      "109/109 [==============================] - 1s 12ms/step - loss: 0.0098 - val_loss: 0.0114\n",
      "Epoch 21/50\n",
      "109/109 [==============================] - 1s 13ms/step - loss: 0.0097 - val_loss: 0.0109\n",
      "Epoch 22/50\n",
      "109/109 [==============================] - 1s 13ms/step - loss: 0.0097 - val_loss: 0.0108\n",
      "Epoch 23/50\n",
      "109/109 [==============================] - 1s 13ms/step - loss: 0.0096 - val_loss: 0.0109\n",
      "Epoch 24/50\n",
      "109/109 [==============================] - 1s 13ms/step - loss: 0.0096 - val_loss: 0.0104\n",
      "Epoch 25/50\n",
      "109/109 [==============================] - 1s 13ms/step - loss: 0.0096 - val_loss: 0.0103\n",
      "Epoch 26/50\n",
      "109/109 [==============================] - 1s 13ms/step - loss: 0.0097 - val_loss: 0.0100\n",
      "Epoch 27/50\n",
      "109/109 [==============================] - 1s 13ms/step - loss: 0.0094 - val_loss: 0.0102\n",
      "Epoch 28/50\n",
      "109/109 [==============================] - 1s 13ms/step - loss: 0.0094 - val_loss: 0.0105\n",
      "Epoch 29/50\n",
      "109/109 [==============================] - 1s 13ms/step - loss: 0.0092 - val_loss: 0.0100\n",
      "Epoch 30/50\n",
      "109/109 [==============================] - 1s 13ms/step - loss: 0.0093 - val_loss: 0.0102\n",
      "Epoch 31/50\n",
      "109/109 [==============================] - 1s 14ms/step - loss: 0.0093 - val_loss: 0.0097\n",
      "Epoch 32/50\n",
      "109/109 [==============================] - 1s 13ms/step - loss: 0.0090 - val_loss: 0.0095\n",
      "Epoch 33/50\n",
      "109/109 [==============================] - 1s 13ms/step - loss: 0.0089 - val_loss: 0.0099\n",
      "Epoch 34/50\n",
      "109/109 [==============================] - 1s 13ms/step - loss: 0.0090 - val_loss: 0.0100\n",
      "Epoch 35/50\n",
      "109/109 [==============================] - 2s 14ms/step - loss: 0.0089 - val_loss: 0.0096\n",
      "Epoch 36/50\n",
      "109/109 [==============================] - 1s 13ms/step - loss: 0.0089 - val_loss: 0.0097\n",
      "Epoch 37/50\n",
      "109/109 [==============================] - 2s 14ms/step - loss: 0.0086 - val_loss: 0.0096\n",
      "Epoch 38/50\n",
      "109/109 [==============================] - 1s 14ms/step - loss: 0.0088 - val_loss: 0.0092\n",
      "Epoch 39/50\n",
      "109/109 [==============================] - 1s 13ms/step - loss: 0.0088 - val_loss: 0.0094\n",
      "Epoch 40/50\n",
      "109/109 [==============================] - 1s 14ms/step - loss: 0.0087 - val_loss: 0.0100\n",
      "Epoch 41/50\n",
      "109/109 [==============================] - 1s 13ms/step - loss: 0.0086 - val_loss: 0.0101\n",
      "Epoch 42/50\n",
      "109/109 [==============================] - 1s 13ms/step - loss: 0.0087 - val_loss: 0.0093\n",
      "Epoch 43/50\n",
      "109/109 [==============================] - 1s 13ms/step - loss: 0.0087 - val_loss: 0.0095\n",
      "Epoch 44/50\n",
      "109/109 [==============================] - 1s 14ms/step - loss: 0.0085 - val_loss: 0.0094\n",
      "Epoch 45/50\n",
      "109/109 [==============================] - 1s 13ms/step - loss: 0.0086 - val_loss: 0.0097\n",
      "Epoch 46/50\n",
      "109/109 [==============================] - 2s 14ms/step - loss: 0.0085 - val_loss: 0.0093\n",
      "Epoch 47/50\n",
      "109/109 [==============================] - 1s 13ms/step - loss: 0.0084 - val_loss: 0.0092\n",
      "Epoch 48/50\n",
      "109/109 [==============================] - 1s 14ms/step - loss: 0.0083 - val_loss: 0.0091\n",
      "Epoch 49/50\n",
      "109/109 [==============================] - 1s 13ms/step - loss: 0.0084 - val_loss: 0.0095\n",
      "Epoch 50/50\n",
      "109/109 [==============================] - 1s 13ms/step - loss: 0.0084 - val_loss: 0.0094\n"
     ]
    }
   ],
   "source": [
    "# 存模型\n",
    "\n",
    "checkpoint_file = \"best_model.hdf5\"\n",
    "checkpoint_callback = ModelCheckpoint(filepath=checkpoint_file, \n",
    "                                      monitor='loss',\n",
    "                                      mode='min',\n",
    "                                      save_best_only=True,\n",
    "                                      save_weights_only=True)  # 将loss最小的那个模型保存下来\n",
    "# 模型训练\n",
    "\n",
    "history = model.fit(train_batch_dataset,\n",
    "                    epochs=50,\n",
    "                    validation_data=test_batch_dataset,\n",
    "                    # callbacks=[stop_callback, checkpoint_callback]\n",
    "                    callbacks=checkpoint_callback\n",
    "                   )"
   ]
  },
  {
   "cell_type": "code",
   "execution_count": 100,
   "id": "81ce8207",
   "metadata": {},
   "outputs": [
    {
     "data": {
      "image/png": "[encoded data removed]",
      "text/plain": [
       "<Figure size 720x360 with 1 Axes>"
      ]
     },
     "metadata": {
      "needs_background": "light"
     },
     "output_type": "display_data"
    }
   ],
   "source": [
    "# 显示训练结果\n",
    "\n",
    "plt.figure(figsize=(10,5))\n",
    "plt.plot(history.history['loss'], label='train loss')\n",
    "plt.plot(history.history['val_loss'], label='val loss')\n",
    "plt.legend(loc='best')\n",
    "plt.show()"
   ]
  },
  {
   "cell_type": "code",
   "execution_count": 101,
   "id": "ec98b829",
   "metadata": {},
   "outputs": [
    {
     "name": "stdout",
     "output_type": "stream",
     "text": [
      "436/436 [==============================] - 2s 6ms/step\n",
      "109/109 [==============================] - 1s 6ms/step\n",
      "r^2 值为：(0.6425637844994125, 0.5436876541606682)\n"
     ]
    }
   ],
   "source": [
    "train_preds = model.predict(train_dataset, verbose=1)\n",
    "test_preds = model.predict(test_dataset, verbose=1)\n",
    "\n",
    "score_train = r2_score(train_labels, train_preds)\n",
    "score_test = r2_score(test_labels, test_preds)\n",
    "\n",
    "print(f\"r^2 值为：{score_train,score_test}\")"
   ]
  },
  {
   "cell_type": "code",
   "execution_count": null,
   "id": "0da0c7fe",
   "metadata": {},
   "outputs": [],
   "source": []
  }
 ],
 "metadata": {
  "interpreter": {
   "hash": "429c01819effdb60bd36c6c19d9aebf81ee1ac94a8cb78e377c49aaa22172aa9"
  },
  "kernelspec": {
   "display_name": "Python 3.8.13 ('tf2')",
   "language": "python",
   "name": "python3"
  },
  "language_info": {
   "codemirror_mode": {
    "name": "ipython",
    "version": 3
   },
   "file_extension": ".py",
   "mimetype": "text/x-python",
   "name": "python",
   "nbconvert_exporter": "python",
   "pygments_lexer": "ipython3",
   "version": "3.8.13"
  }
 },
 "nbformat": 4,
 "nbformat_minor": 5
}
